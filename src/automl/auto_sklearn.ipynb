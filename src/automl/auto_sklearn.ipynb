{
 "cells": [
  {
   "cell_type": "code",
   "execution_count": 3,
   "metadata": {},
   "outputs": [
    {
     "name": "stdout",
     "output_type": "stream",
     "text": [
      "Collecting auto-sklearn\n",
      "  Downloading auto-sklearn-0.15.0.tar.gz (6.5 MB)\n",
      "                                              0.0/6.5 MB ? eta -:--:--\n",
      "                                              0.0/6.5 MB ? eta -:--:--\n",
      "                                              0.1/6.5 MB 1.8 MB/s eta 0:00:04\n",
      "     --                                       0.5/6.5 MB 4.7 MB/s eta 0:00:02\n",
      "     ------                                   1.1/6.5 MB 7.0 MB/s eta 0:00:01\n",
      "     ---------                                1.5/6.5 MB 7.5 MB/s eta 0:00:01\n",
      "     ------------                             2.0/6.5 MB 7.8 MB/s eta 0:00:01\n",
      "     ---------------                          2.5/6.5 MB 8.6 MB/s eta 0:00:01\n",
      "     ------------------                       3.0/6.5 MB 8.8 MB/s eta 0:00:01\n",
      "     ----------------------                   3.6/6.5 MB 9.2 MB/s eta 0:00:01\n",
      "     ------------------------                 3.9/6.5 MB 9.0 MB/s eta 0:00:01\n",
      "     ----------------------------             4.5/6.5 MB 9.4 MB/s eta 0:00:01\n",
      "     ------------------------------           5.0/6.5 MB 9.6 MB/s eta 0:00:01\n",
      "     ---------------------------------        5.4/6.5 MB 9.5 MB/s eta 0:00:01\n",
      "     ------------------------------------     5.9/6.5 MB 9.7 MB/s eta 0:00:01\n",
      "     ---------------------------------------  6.4/6.5 MB 9.7 MB/s eta 0:00:01\n",
      "     ---------------------------------------- 6.5/6.5 MB 9.2 MB/s eta 0:00:00\n",
      "  Installing build dependencies: started\n",
      "  Installing build dependencies: finished with status 'done'\n",
      "  Getting requirements to build wheel: started\n",
      "  Getting requirements to build wheel: finished with status 'error'\n"
     ]
    },
    {
     "name": "stderr",
     "output_type": "stream",
     "text": [
      "  error: subprocess-exited-with-error\n",
      "  \n",
      "  × Getting requirements to build wheel did not run successfully.\n",
      "  │ exit code: 1\n",
      "  ╰─> [20 lines of output]\n",
      "      Traceback (most recent call last):\n",
      "        File \"C:\\Users\\Isak\\Miniconda3\\Lib\\site-packages\\pip\\_vendor\\pyproject_hooks\\_in_process\\_in_process.py\", line 353, in <module>\n",
      "          main()\n",
      "        File \"C:\\Users\\Isak\\Miniconda3\\Lib\\site-packages\\pip\\_vendor\\pyproject_hooks\\_in_process\\_in_process.py\", line 335, in main\n",
      "          json_out['return_val'] = hook(**hook_input['kwargs'])\n",
      "                                   ^^^^^^^^^^^^^^^^^^^^^^^^^^^^\n",
      "        File \"C:\\Users\\Isak\\Miniconda3\\Lib\\site-packages\\pip\\_vendor\\pyproject_hooks\\_in_process\\_in_process.py\", line 118, in get_requires_for_build_wheel\n",
      "          return hook(config_settings)\n",
      "                 ^^^^^^^^^^^^^^^^^^^^^\n",
      "        File \"C:\\Users\\Isak\\AppData\\Local\\Temp\\pip-build-env-dryx_v4g\\overlay\\Lib\\site-packages\\setuptools\\build_meta.py\", line 327, in get_requires_for_build_wheel\n",
      "          return self._get_build_requires(config_settings, requirements=[])\n",
      "                 ^^^^^^^^^^^^^^^^^^^^^^^^^^^^^^^^^^^^^^^^^^^^^^^^^^^^^^^^^^\n",
      "        File \"C:\\Users\\Isak\\AppData\\Local\\Temp\\pip-build-env-dryx_v4g\\overlay\\Lib\\site-packages\\setuptools\\build_meta.py\", line 297, in _get_build_requires\n",
      "          self.run_setup()\n",
      "        File \"C:\\Users\\Isak\\AppData\\Local\\Temp\\pip-build-env-dryx_v4g\\overlay\\Lib\\site-packages\\setuptools\\build_meta.py\", line 497, in run_setup\n",
      "          super().run_setup(setup_script=setup_script)\n",
      "        File \"C:\\Users\\Isak\\AppData\\Local\\Temp\\pip-build-env-dryx_v4g\\overlay\\Lib\\site-packages\\setuptools\\build_meta.py\", line 313, in run_setup\n",
      "          exec(code, locals())\n",
      "        File \"<string>\", line 10, in <module>\n",
      "      ValueError: Detected unsupported operating system: win32. Please check the compability information of auto-sklearn: https://automl.github.io/auto-sklearn/master/installation.html#windows-osx-compatibility\n",
      "      [end of output]\n",
      "  \n",
      "  note: This error originates from a subprocess, and is likely not a problem with pip.\n",
      "error: subprocess-exited-with-error\n",
      "\n",
      "× Getting requirements to build wheel did not run successfully.\n",
      "│ exit code: 1\n",
      "╰─> See above for output.\n",
      "\n",
      "note: This error originates from a subprocess, and is likely not a problem with pip.\n"
     ]
    }
   ],
   "source": [
    "!pip install auto-sklearn"
   ]
  },
  {
   "cell_type": "code",
   "execution_count": 1,
   "metadata": {},
   "outputs": [
    {
     "ename": "ModuleNotFoundError",
     "evalue": "No module named 'autosklearn'",
     "output_type": "error",
     "traceback": [
      "\u001b[1;31m---------------------------------------------------------------------------\u001b[0m",
      "\u001b[1;31mModuleNotFoundError\u001b[0m                       Traceback (most recent call last)",
      "Cell \u001b[1;32mIn[1], line 1\u001b[0m\n\u001b[1;32m----> 1\u001b[0m \u001b[38;5;28;01mimport\u001b[39;00m \u001b[38;5;21;01mautosklearn\u001b[39;00m\u001b[38;5;21;01m.\u001b[39;00m\u001b[38;5;21;01mregression\u001b[39;00m\n\u001b[0;32m      2\u001b[0m \u001b[38;5;28;01mimport\u001b[39;00m \u001b[38;5;21;01mpandas\u001b[39;00m \u001b[38;5;28;01mas\u001b[39;00m \u001b[38;5;21;01mpd\u001b[39;00m\n\u001b[0;32m      3\u001b[0m \u001b[38;5;28;01mimport\u001b[39;00m \u001b[38;5;21;01mnumpy\u001b[39;00m \u001b[38;5;28;01mas\u001b[39;00m \u001b[38;5;21;01mnp\u001b[39;00m\n",
      "\u001b[1;31mModuleNotFoundError\u001b[0m: No module named 'autosklearn'"
     ]
    }
   ],
   "source": [
    "import autosklearn.regression\n",
    "import pandas as pd\n",
    "import numpy as np\n",
    "from __future__ import annotations\n",
    "from pathlib import Path\n",
    "from sklearn.metrics import r2_score\n",
    "import argparse\n",
    "import logging\n",
    "from sklearn.preprocessing import LabelEncoder"
   ]
  },
  {
   "cell_type": "code",
   "execution_count": null,
   "metadata": {},
   "outputs": [],
   "source": [
    "df_brazil_1_X = pd.read_parquet('/home/isakmacmuffin/automl_project/data/361098/1/X_train.parquet')\n",
    "df_brazil_1_y = pd.read_parquet('/home/isakmacmuffin/automl_project/data/361098/1/y_train.parquet')\n",
    "\n",
    "print(df_brazil_1_X.dtypes, df_brazil_1_y.dtypes)\n",
    "print(df_brazil_1_X.head())\n",
    "print(len(df_brazil_1_X))"
   ]
  },
  {
   "cell_type": "code",
   "execution_count": null,
   "metadata": {},
   "outputs": [],
   "source": [
    "from sklearn.model_selection import train_test_split\n",
    "\n",
    "X_train, X_val, y_train, y_val = train_test_split(\n",
    "            df_brazil_1_X,\n",
    "            df_brazil_1_y,\n",
    "            random_state=69,\n",
    "            test_size=0.2,\n",
    "        )\n",
    "(X_train.shape, X_val.shape), (y_train.shape, y_val.shape)"
   ]
  },
  {
   "cell_type": "code",
   "execution_count": null,
   "metadata": {},
   "outputs": [],
   "source": [
    "autosklearn_regressor = autosklearn.regression.AutoSklearnRegressor(\n",
    "    time_left_for_this_task=1000,\n",
    "    per_run_time_limit=30,\n",
    "    tmp_folder='/tmp/autosklearn_regression_example_tmp',\n",
    "    \n",
    ") \n",
    "\n",
    "autosklearn_regressor.fit(X_train, y_train)"
   ]
  },
  {
   "cell_type": "code",
   "execution_count": null,
   "metadata": {},
   "outputs": [],
   "source": [
    "print(autosklearn_regressor.leaderboard())"
   ]
  },
  {
   "cell_type": "code",
   "execution_count": null,
   "metadata": {},
   "outputs": [],
   "source": [
    "from pprint import pprint\n",
    "pprint(autosklearn_regressor.show_models(), indent=4)"
   ]
  },
  {
   "cell_type": "code",
   "execution_count": null,
   "metadata": {},
   "outputs": [],
   "source": [
    "from sklearn.metrics import r2_score\n",
    "\n",
    "train_predictions = autosklearn_regressor.predict(X_train)\n",
    "print(\"Train R2 score:\", r2_score(y_train, train_predictions))\n",
    "val_predictions = autosklearn_regressor.predict(X_val)\n",
    "print(\"Test R2 score:\", r2_score(y_val, val_predictions))"
   ]
  },
  {
   "cell_type": "code",
   "execution_count": null,
   "metadata": {},
   "outputs": [],
   "source": [
    "df_brazil_1_X_test = pd.read_parquet('/home/isakmacmuffin/automl_project/data/361098/1/X_test.parquet')\n",
    "df_brazil_1_y_test = pd.read_parquet('/home/isakmacmuffin/automl_project/data/361098/1/y_test.parquet')\n",
    "\n",
    "test_predictions = autosklearn_regressor.predict(df_brazil_1_X_test)\n",
    "print(\"Test R2 score:\", r2_score(df_brazil_1_y_test, test_predictions))"
   ]
  },
  {
   "cell_type": "code",
   "execution_count": null,
   "metadata": {},
   "outputs": [],
   "source": [
    "import matplotlib.pyplot as plt\n",
    "\n",
    "plt.scatter(train_predictions, y_train, label=\"Train samples\", c=\"#d95f02\")\n",
    "plt.scatter(test_predictions, y_val, label=\"Test samples\", c=\"#7570b3\")\n",
    "plt.xlabel(\"Predicted value\")\n",
    "plt.ylabel(\"True value\")\n",
    "plt.legend()\n",
    "plt.plot([30, 400], [30, 400], c=\"k\", zorder=0)\n",
    "plt.xlim([30, 400])\n",
    "plt.ylim([30, 400])\n",
    "plt.tight_layout()\n",
    "plt.show()"
   ]
  },
  {
   "cell_type": "code",
   "execution_count": 5,
   "metadata": {},
   "outputs": [
    {
     "name": "stdout",
     "output_type": "stream",
     "text": [
      "Bike dataset: \n",
      "\n",
      " season        category\n",
      "year          category\n",
      "month            uint8\n",
      "hour             uint8\n",
      "holiday       category\n",
      "workingday    category\n",
      "weather       category\n",
      "temp           float64\n",
      "feel_temp      float64\n",
      "humidity       float64\n",
      "windspeed      float64\n",
      "dtype: object count    int64\n",
      "dtype: object      season year  month  hour holiday workingday weather   temp  feel_temp  \\\n",
      "3937      2    0      6    23       0          1       0  25.42     28.790   \n",
      "460       1    0      1     5       0          1       0   9.84      9.850   \n",
      "2081      2    0      4    14       0          1       2  14.76     16.665   \n",
      "8823      1    1      1    11       0          0       0  14.76     17.425   \n",
      "6121      0    0      9    15       0          0       2  21.32     25.000   \n",
      "\n",
      "      humidity  windspeed  \n",
      "3937      0.83     8.9981  \n",
      "460       0.60    27.9993  \n",
      "2081      0.46    23.9994  \n",
      "8823      0.46    15.0013  \n",
      "6121      0.72    12.9980   length of datasets: 15641 1738\n",
      "\n",
      " Property dataset: \n",
      "\n",
      " oz1      float64\n",
      "oz2      float64\n",
      "oz3      float64\n",
      "oz4      float64\n",
      "oz5      float64\n",
      "          ...   \n",
      "oz247    float64\n",
      "oz248    float64\n",
      "oz249    float64\n",
      "oz250    float64\n",
      "oz251    float64\n",
      "Length: 62, dtype: object oz252    float64\n",
      "dtype: object            oz1       oz2       oz3       oz4       oz5       oz6       oz9  \\\n",
      "7431  0.999078  0.177647  0.999093  0.996510  0.133333  0.000000  0.045455   \n",
      "2900  0.998759  0.000000  0.997260  0.996325  0.133333  0.000000  0.590909   \n",
      "978   0.999769  0.174118  0.999707  0.997143  0.000000  0.000000  0.000000   \n",
      "2928  0.998759  0.000000  0.997260  0.996325  0.200000  0.028571  0.045455   \n",
      "903   0.999286  0.174118  0.999364  0.996630  0.000000  0.028571  0.000000   \n",
      "\n",
      "          oz10  oz11      oz12  ...  oz197  oz206 oz222 oz234     oz246  \\\n",
      "7431  0.000000   0.1  0.096154  ...    0.1      0     0     0  0.562353   \n",
      "2900  0.250000   0.2  0.000000  ...    0.0      0     0     0  0.248627   \n",
      "978   0.000000   0.0  0.173077  ...    0.0      0     0     0  0.641098   \n",
      "2928  0.083333   0.1  0.000000  ...    0.0      0     0     0  0.248627   \n",
      "903   0.000000   0.0  0.134615  ...    0.0      0     0     0  0.562353   \n",
      "\n",
      "         oz247  oz248     oz249     oz250     oz251  \n",
      "7431  0.028136  0.455  0.206943  0.127661  0.542152  \n",
      "2900  0.011586  0.000  0.345525  0.131875  0.681882  \n",
      "978   0.159550  0.700  0.192228  0.132717  0.476789  \n",
      "2928  0.032771  0.000  0.118891  0.091860  0.504735  \n",
      "903   0.081209  0.625  0.155620  0.102566  0.495420  \n",
      "\n",
      "[5 rows x 62 columns] length of datasets: 7996 889\n"
     ]
    }
   ],
   "source": [
    "### Doing the same, but with the bike and the property data sets\n",
    "\n",
    "df_bike_1_X = pd.read_parquet('/home/isakmacmuffin/automl_project/data/361099/1/X_train.parquet')\n",
    "df_bike_1_y = pd.read_parquet('/home/isakmacmuffin/automl_project/data/361099/1/y_train.parquet')\n",
    "df_bike_1_X_test = pd.read_parquet('/home/isakmacmuffin/automl_project/data/361099/1/X_test.parquet')\n",
    "df_bike_1_y_test = pd.read_parquet('/home/isakmacmuffin/automl_project/data/361099/1/y_test.parquet')\n",
    "\n",
    "df_property_1_X = pd.read_parquet('/home/isakmacmuffin/automl_project/data/361092/1/X_train.parquet')\n",
    "df_property_1_y = pd.read_parquet('/home/isakmacmuffin/automl_project/data/361092/1/y_train.parquet')\n",
    "df_property_1_X_test = pd.read_parquet('/home/isakmacmuffin/automl_project/data/361092/1/X_test.parquet')\n",
    "df_property_1_y_test = pd.read_parquet('/home/isakmacmuffin/automl_project/data/361092/1/y_test.parquet')\n",
    "\n",
    "print('Bike dataset: \\n\\n', df_bike_1_X.dtypes, df_bike_1_y.dtypes, df_bike_1_X.head(), 'length of datasets:', len(df_bike_1_X), len(df_bike_1_X_test))\n",
    "print('\\n Property dataset: \\n\\n', df_property_1_X.dtypes, df_property_1_y.dtypes, df_property_1_X.head(), 'length of datasets:', len(df_property_1_X), len(df_property_1_X_test))"
   ]
  },
  {
   "cell_type": "code",
   "execution_count": null,
   "metadata": {},
   "outputs": [],
   "source": [
    "### I have to shorten the bike datasets, as they are too large for my computer to handle\n",
    "\n",
    "df_bike_1_X = df_bike_1_X[:10]\n",
    "df_bike_1_y = df_bike_1_y[:10]\n",
    "print('Bike dataset: \\n\\n', df_bike_1_X.dtypes, df_bike_1_y.dtypes, df_bike_1_X.head(), 'length of datasets:', len(df_bike_1_X), len(df_bike_1_X_test))"
   ]
  },
  {
   "cell_type": "code",
   "execution_count": 7,
   "metadata": {},
   "outputs": [
    {
     "name": "stdout",
     "output_type": "stream",
     "text": [
      "[WARNING] [2024-06-27 12:17:58,909:Client-EnsembleBuilder] No runs were available to build an ensemble from\n",
      "[WARNING] [2024-06-27 12:17:59,650:Client-EnsembleBuilder] No runs were available to build an ensemble from\n",
      "[WARNING] [2024-06-27 12:18:02,900:Client-EnsembleBuilder] No runs were available to build an ensemble from\n",
      "[WARNING] [2024-06-27 12:18:03,570:Client-EnsembleBuilder] No runs were available to build an ensemble from\n",
      "[WARNING] [2024-06-27 12:18:34,657:Client-EnsembleBuilder] No runs were available to build an ensemble from\n",
      "          rank  ensemble_weight               type      cost  duration\n",
      "model_id                                                              \n",
      "7            1              1.0  gradient_boosting  0.056847  5.024288\n",
      "Train R2 score: 0.9694443892876782\n",
      "Test R2 score: 0.9409399426146681\n"
     ]
    }
   ],
   "source": [
    "### First fitting the bike dataset\n",
    "\n",
    "autosklearn_bike_regressor = autosklearn.regression.AutoSklearnRegressor(\n",
    "    time_left_for_this_task=155,\n",
    "    per_run_time_limit=30,\n",
    "    tmp_folder='/tmp/autosklearn_bike_regression_example_tmp',\n",
    ") \n",
    "\n",
    "autosklearn_bike_regressor.fit(df_bike_1_X, df_bike_1_y)\n",
    "\n",
    "print(autosklearn_bike_regressor.leaderboard())\n",
    "train_predictions = autosklearn_bike_regressor.predict(df_bike_1_X)\n",
    "print(\"Train R2 score:\", r2_score(df_bike_1_y, train_predictions))\n",
    "test_predictions = autosklearn_bike_regressor.predict(df_bike_1_X_test)\n",
    "print(\"Test R2 score:\", r2_score(df_bike_1_y_test, test_predictions))"
   ]
  },
  {
   "cell_type": "code",
   "execution_count": 9,
   "metadata": {},
   "outputs": [
    {
     "name": "stdout",
     "output_type": "stream",
     "text": [
      "[WARNING] [2024-06-27 13:56:48,431:Client-EnsembleBuilder] No runs were available to build an ensemble from\n",
      "[WARNING] [2024-06-27 13:57:19,529:Client-EnsembleBuilder] No runs were available to build an ensemble from\n",
      "[WARNING] [2024-06-27 13:57:21,285:Client-EnsembleBuilder] No runs were available to build an ensemble from\n",
      "[WARNING] [2024-06-27 13:57:23,033:Client-EnsembleBuilder] No runs were available to build an ensemble from\n",
      "[WARNING] [2024-06-27 13:57:54,122:Client-EnsembleBuilder] No runs were available to build an ensemble from\n",
      "[WARNING] [2024-06-27 13:57:55,823:Client-EnsembleBuilder] No runs were available to build an ensemble from\n",
      "[WARNING] [2024-06-27 13:57:57,522:Client-EnsembleBuilder] No runs were available to build an ensemble from\n",
      "[WARNING] [2024-06-27 13:57:58,214:Client-EnsembleBuilder] No runs were available to build an ensemble from\n",
      "[WARNING] [2024-06-27 13:58:03,038:Client-EnsembleBuilder] No models better than random - using Dummy losses!\n",
      "\tModels besides current dummy model: 0\n",
      "\tDummy models: 1\n",
      "[WARNING] [2024-06-27 13:58:04,836:Client-EnsembleBuilder] No models better than random - using Dummy losses!\n",
      "\tModels besides current dummy model: 0\n",
      "\tDummy models: 1\n",
      "[WARNING] [2024-06-27 13:58:05,565:Client-EnsembleBuilder] No models better than random - using Dummy losses!\n",
      "\tModels besides current dummy model: 0\n",
      "\tDummy models: 1\n",
      "[WARNING] [2024-06-27 13:58:06,269:Client-EnsembleBuilder] No models better than random - using Dummy losses!\n",
      "\tModels besides current dummy model: 0\n",
      "\tDummy models: 1\n",
      "          rank  ensemble_weight         type      cost  duration\n",
      "model_id                                                        \n",
      "30           1             0.86  extra_trees  0.915791  7.623001\n",
      "28           2             0.14  extra_trees  0.922874  8.306994\n",
      "Train R2 score: 0.2535925035451244\n",
      "Test R2 score: 0.07910119390660553\n"
     ]
    }
   ],
   "source": [
    "### Then fitting the property dataset\n",
    "\n",
    "autosklearn_property_regressor = autosklearn.regression.AutoSklearnRegressor(\n",
    "    time_left_for_this_task=601,\n",
    "    per_run_time_limit=30,\n",
    "    tmp_folder='/tmp/autosklearn_property_regression_example_tmp',\n",
    ")\n",
    "\n",
    "autosklearn_property_regressor.fit(df_property_1_X, df_property_1_y)\n",
    "\n",
    "print(autosklearn_property_regressor.leaderboard())\n",
    "train_predictions = autosklearn_property_regressor.predict(df_property_1_X)\n",
    "print(\"Train R2 score:\", r2_score(df_property_1_y, train_predictions))\n",
    "test_predictions = autosklearn_property_regressor.predict(df_property_1_X_test)\n",
    "print(\"Test R2 score:\", r2_score(df_property_1_y_test, test_predictions))"
   ]
  },
  {
   "cell_type": "code",
   "execution_count": null,
   "metadata": {},
   "outputs": [],
   "source": []
  }
 ],
 "metadata": {
  "kernelspec": {
   "display_name": "Python 3 (ipykernel)",
   "language": "python",
   "name": "python3"
  },
  "language_info": {
   "codemirror_mode": {
    "name": "ipython",
    "version": 3
   },
   "file_extension": ".py",
   "mimetype": "text/x-python",
   "name": "python",
   "nbconvert_exporter": "python",
   "pygments_lexer": "ipython3",
   "version": "3.11.9"
  }
 },
 "nbformat": 4,
 "nbformat_minor": 4
}
